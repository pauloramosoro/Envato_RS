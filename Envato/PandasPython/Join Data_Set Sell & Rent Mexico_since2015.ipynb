{
 "cells": [
  {
   "cell_type": "code",
   "execution_count": 1,
   "metadata": {},
   "outputs": [],
   "source": [
    "import pandas as pd\n",
    "import numpy as np\n",
    "from datetime import datetime, timedelta\n",
    "import matplotlib.pyplot as plt\n",
    "import os\n",
    "import glob"
   ]
  },
  {
   "cell_type": "markdown",
   "metadata": {},
   "source": [
    "# Read & Create Data Frames for both data sets"
   ]
  },
  {
   "cell_type": "code",
   "execution_count": 2,
   "metadata": {},
   "outputs": [
    {
     "data": {
      "text/plain": [
       "['Results\\\\join_data_Mexico_since_2015.csv',\n",
       " 'Results\\\\rent_data_Mexico_since_2015.csv',\n",
       " 'Results\\\\sell_data_Mexico_since_2015.csv']"
      ]
     },
     "execution_count": 2,
     "metadata": {},
     "output_type": "execute_result"
    }
   ],
   "source": [
    "path = (\"Results\")\n",
    "allFiles = glob.glob(os.path.join(path, '*.csv'))\n",
    "allFiles"
   ]
  },
  {
   "cell_type": "code",
   "execution_count": 3,
   "metadata": {},
   "outputs": [],
   "source": [
    "for file_ in allFiles:\n",
    "    df_rent = pd.read_csv (allFiles[1], index_col=None, sep=',', header=0, encoding = 'utf-8')\n",
    "    df_sell = pd.read_csv (allFiles[2], index_col=None, sep=',', header=0, encoding = 'utf-8')"
   ]
  },
  {
   "cell_type": "markdown",
   "metadata": {},
   "source": [
    "# Prepare for Merge"
   ]
  },
  {
   "cell_type": "code",
   "execution_count": 4,
   "metadata": {},
   "outputs": [],
   "source": [
    "#Delete de US currency because as the currency is always fluctuating, it can be srcapped when having the final table\n",
    "del df_rent['price_aprox_usd']\n",
    "del df_sell['price_aprox_usd']\n",
    "\n",
    "#As the two data sets has been worked separately we already know which is for sell and for rent\n",
    "del df_rent['operation']\n",
    "del df_sell['operation']"
   ]
  },
  {
   "cell_type": "code",
   "execution_count": 5,
   "metadata": {},
   "outputs": [],
   "source": [
    "#Delete the id´s because I have find out that the data is a unique data created for a unique composition of data\n",
    "del df_rent['id']\n",
    "del df_sell['id']\n",
    "\n",
    "#Delete the creation date because is irrelevant when joinnin the tables, as they belong to a,\n",
    "#unique id from a unique composition of data\n",
    "del df_rent['created_on']\n",
    "del df_sell['created_on']"
   ]
  },
  {
   "cell_type": "code",
   "execution_count": 6,
   "metadata": {},
   "outputs": [
    {
     "name": "stdout",
     "output_type": "stream",
     "text": [
      "<class 'pandas.core.frame.DataFrame'>\n",
      "RangeIndex: 258567 entries, 0 to 258566\n",
      "Data columns (total 8 columns):\n",
      "property_type          258567 non-null object\n",
      "place_name             258567 non-null object\n",
      "state_name             258567 non-null object\n",
      "lat                    258567 non-null float64\n",
      "lon                    258567 non-null float64\n",
      "price                  258567 non-null float64\n",
      "currency               258567 non-null object\n",
      "surface_total_in_m2    258567 non-null float64\n",
      "dtypes: float64(4), object(4)\n",
      "memory usage: 15.8+ MB\n"
     ]
    }
   ],
   "source": [
    "df_rent.info()"
   ]
  },
  {
   "cell_type": "code",
   "execution_count": 7,
   "metadata": {},
   "outputs": [
    {
     "name": "stdout",
     "output_type": "stream",
     "text": [
      "<class 'pandas.core.frame.DataFrame'>\n",
      "RangeIndex: 1391580 entries, 0 to 1391579\n",
      "Data columns (total 8 columns):\n",
      "property_type          1391580 non-null object\n",
      "place_name             1391580 non-null object\n",
      "state_name             1391580 non-null object\n",
      "lat                    1391580 non-null float64\n",
      "lon                    1391580 non-null float64\n",
      "price                  1391580 non-null float64\n",
      "currency               1391580 non-null object\n",
      "surface_total_in_m2    1391580 non-null float64\n",
      "dtypes: float64(4), object(4)\n",
      "memory usage: 84.9+ MB\n"
     ]
    }
   ],
   "source": [
    "df_sell.info()"
   ]
  },
  {
   "cell_type": "markdown",
   "metadata": {},
   "source": [
    "# Merge to analysis"
   ]
  },
  {
   "cell_type": "code",
   "execution_count": 8,
   "metadata": {},
   "outputs": [],
   "source": [
    "pred = pd.merge(\n",
    "                left=df_rent,\n",
    "                right=df_sell,\n",
    "                how='left',\n",
    "                on=['property_type', 'place_name',\n",
    "       'state_name', 'lat', 'lon', 'currency','surface_total_in_m2'])"
   ]
  },
  {
   "cell_type": "code",
   "execution_count": 9,
   "metadata": {},
   "outputs": [
    {
     "data": {
      "text/plain": [
       "(1051659, 9)"
      ]
     },
     "execution_count": 9,
     "metadata": {},
     "output_type": "execute_result"
    }
   ],
   "source": [
    "pred.shape"
   ]
  },
  {
   "cell_type": "code",
   "execution_count": 10,
   "metadata": {},
   "outputs": [],
   "source": [
    "pred = pred.dropna()"
   ]
  },
  {
   "cell_type": "code",
   "execution_count": 11,
   "metadata": {},
   "outputs": [],
   "source": [
    "pred = pred.drop_duplicates()"
   ]
  },
  {
   "cell_type": "code",
   "execution_count": 12,
   "metadata": {},
   "outputs": [],
   "source": [
    "pred = pred.rename(columns={'price_y' : 'sell_price', 'price_x' : 'rent_price'})"
   ]
  },
  {
   "cell_type": "code",
   "execution_count": 13,
   "metadata": {},
   "outputs": [
    {
     "data": {
      "text/html": [
       "<div>\n",
       "<style scoped>\n",
       "    .dataframe tbody tr th:only-of-type {\n",
       "        vertical-align: middle;\n",
       "    }\n",
       "\n",
       "    .dataframe tbody tr th {\n",
       "        vertical-align: top;\n",
       "    }\n",
       "\n",
       "    .dataframe thead th {\n",
       "        text-align: right;\n",
       "    }\n",
       "</style>\n",
       "<table border=\"1\" class=\"dataframe\">\n",
       "  <thead>\n",
       "    <tr style=\"text-align: right;\">\n",
       "      <th></th>\n",
       "      <th>property_type</th>\n",
       "      <th>place_name</th>\n",
       "      <th>state_name</th>\n",
       "      <th>lat</th>\n",
       "      <th>lon</th>\n",
       "      <th>rent_price</th>\n",
       "      <th>currency</th>\n",
       "      <th>surface_total_in_m2</th>\n",
       "      <th>sell_price</th>\n",
       "    </tr>\n",
       "  </thead>\n",
       "  <tbody>\n",
       "    <tr>\n",
       "      <th>19</th>\n",
       "      <td>apartment</td>\n",
       "      <td>Quintana Roo</td>\n",
       "      <td>Quintana Roo</td>\n",
       "      <td>21.161908</td>\n",
       "      <td>-86.851528</td>\n",
       "      <td>16500.0</td>\n",
       "      <td>MXN</td>\n",
       "      <td>98.0</td>\n",
       "      <td>1790000.0</td>\n",
       "    </tr>\n",
       "    <tr>\n",
       "      <th>23</th>\n",
       "      <td>house</td>\n",
       "      <td>Colima</td>\n",
       "      <td>Colima</td>\n",
       "      <td>19.234996</td>\n",
       "      <td>-103.727212</td>\n",
       "      <td>8500.0</td>\n",
       "      <td>MXN</td>\n",
       "      <td>200.0</td>\n",
       "      <td>2000000.0</td>\n",
       "    </tr>\n",
       "    <tr>\n",
       "      <th>25</th>\n",
       "      <td>store</td>\n",
       "      <td>Colima</td>\n",
       "      <td>Colima</td>\n",
       "      <td>19.244782</td>\n",
       "      <td>-103.724963</td>\n",
       "      <td>10000.0</td>\n",
       "      <td>MXN</td>\n",
       "      <td>435.0</td>\n",
       "      <td>1350000.0</td>\n",
       "    </tr>\n",
       "    <tr>\n",
       "      <th>40</th>\n",
       "      <td>house</td>\n",
       "      <td>Puebla</td>\n",
       "      <td>Puebla</td>\n",
       "      <td>19.056652</td>\n",
       "      <td>-98.228841</td>\n",
       "      <td>30000.0</td>\n",
       "      <td>MXN</td>\n",
       "      <td>364.0</td>\n",
       "      <td>8140000.0</td>\n",
       "    </tr>\n",
       "    <tr>\n",
       "      <th>55</th>\n",
       "      <td>apartment</td>\n",
       "      <td>Puebla</td>\n",
       "      <td>Puebla</td>\n",
       "      <td>19.053259</td>\n",
       "      <td>-98.226545</td>\n",
       "      <td>17000.0</td>\n",
       "      <td>MXN</td>\n",
       "      <td>150.0</td>\n",
       "      <td>3400000.0</td>\n",
       "    </tr>\n",
       "  </tbody>\n",
       "</table>\n",
       "</div>"
      ],
      "text/plain": [
       "   property_type    place_name    state_name        lat         lon  \\\n",
       "19     apartment  Quintana Roo  Quintana Roo  21.161908  -86.851528   \n",
       "23         house        Colima        Colima  19.234996 -103.727212   \n",
       "25         store        Colima        Colima  19.244782 -103.724963   \n",
       "40         house        Puebla        Puebla  19.056652  -98.228841   \n",
       "55     apartment        Puebla        Puebla  19.053259  -98.226545   \n",
       "\n",
       "    rent_price currency  surface_total_in_m2  sell_price  \n",
       "19     16500.0      MXN                 98.0   1790000.0  \n",
       "23      8500.0      MXN                200.0   2000000.0  \n",
       "25     10000.0      MXN                435.0   1350000.0  \n",
       "40     30000.0      MXN                364.0   8140000.0  \n",
       "55     17000.0      MXN                150.0   3400000.0  "
      ]
     },
     "execution_count": 13,
     "metadata": {},
     "output_type": "execute_result"
    }
   ],
   "source": [
    "pred.head()"
   ]
  },
  {
   "cell_type": "code",
   "execution_count": 14,
   "metadata": {},
   "outputs": [],
   "source": [
    "pred.to_csv(\"Results/join_data_Mexico_since_2015.csv\", index=False, encoding ='utf-8-sig')"
   ]
  },
  {
   "cell_type": "markdown",
   "metadata": {},
   "source": [
    "# Convert to JSON"
   ]
  },
  {
   "cell_type": "code",
   "execution_count": 16,
   "metadata": {},
   "outputs": [],
   "source": [
    "pred.to_json(\"Results/join_data_Mexico_since_2015.json\")"
   ]
  },
  {
   "cell_type": "code",
   "execution_count": null,
   "metadata": {},
   "outputs": [],
   "source": []
  }
 ],
 "metadata": {
  "kernelspec": {
   "display_name": "Python 3",
   "language": "python",
   "name": "python3"
  },
  "language_info": {
   "codemirror_mode": {
    "name": "ipython",
    "version": 3
   },
   "file_extension": ".py",
   "mimetype": "text/x-python",
   "name": "python",
   "nbconvert_exporter": "python",
   "pygments_lexer": "ipython3",
   "version": "3.7.3"
  }
 },
 "nbformat": 4,
 "nbformat_minor": 2
}
